{
 "cells": [
  {
   "cell_type": "markdown",
   "metadata": {
    "id": "bhWV8oes-wKR"
   },
   "source": [
    "# COURSE: A deep understanding of deep learning\n",
    "## SECTION: Measuring model performance\n",
    "### LECTURE: Computation time\n",
    "#### TEACHER: Mike X Cohen, sincxpress.com\n",
    "##### COURSE URL: udemy.com/course/deeplearning_x/?couponCode=202305"
   ]
  },
  {
   "cell_type": "code",
   "execution_count": 3,
   "metadata": {
    "id": "YeuAheYyhdZw"
   },
   "outputs": [],
   "source": [
    "# import libraries\n",
    "import numpy as np\n",
    "\n",
    "import torch\n",
    "import torch.nn as nn\n",
    "import torch.nn.functional as F\n",
    "from torch.utils.data import DataLoader\n",
    "from sklearn.model_selection import train_test_split\n",
    "\n",
    "# New!\n",
    "import time\n",
    "# Well, OK, it's not really new. See, e.g., DUDL_metaparams_CodeChallengeBatches\n",
    "\n",
    "import matplotlib.pyplot as plt\n",
    "import matplotlib_inline.backend_inline\n",
    "matplotlib_inline.backend_inline.set_matplotlib_formats('svg')\n",
    "import pandas as pd"
   ]
  },
  {
   "cell_type": "markdown",
   "metadata": {
    "id": "0HOkOefftqyg"
   },
   "source": [
    "# Import and process the data"
   ]
  },
  {
   "cell_type": "code",
   "execution_count": 4,
   "metadata": {
    "id": "MU7rvmWuhjud"
   },
   "outputs": [],
   "source": [
    "# import dataset (comes with colab!)\n",
    "url=\"/home/aaravnigam/Documents/Machine-Leaning-Data-Science-AI/Deep Learning/DUDL_PythonCode/Dataset/archive/mnist_train.csv\"\n",
    "data = pd.read_csv(url).to_numpy()\n",
    "# extract labels (number IDs) and remove from data\n",
    "labels = data[:,0]\n",
    "data   = data[:,1:]\n",
    "\n",
    "# normalize the data to a range of [0 1]\n",
    "dataNorm = data / np.max(data)"
   ]
  },
  {
   "cell_type": "markdown",
   "metadata": {
    "id": "OhLQ2YSvpiGj"
   },
   "source": [
    "# Create train/test groups using DataLoader"
   ]
  },
  {
   "cell_type": "code",
   "execution_count": 5,
   "metadata": {
    "id": "Y_tZ1ymVp0Sf"
   },
   "outputs": [],
   "source": [
    "# Step 1: convert to tensor\n",
    "dataT   = torch.tensor( dataNorm ).float()\n",
    "labelsT = torch.tensor( labels ).long()\n",
    "\n",
    "# Step 2: use scikitlearn to split the data\n",
    "train_data,test_data, train_labels,test_labels = train_test_split(dataT, labelsT, test_size=.1)\n",
    "\n",
    "\n",
    "# Step 3: convert into PyTorch Datasets\n",
    "train_data = torch.utils.data.TensorDataset(train_data,train_labels)\n",
    "test_data  = torch.utils.data.TensorDataset(test_data,test_labels)\n",
    "\n",
    "# Step 4: translate into dataloader objects\n",
    "batchsize  = 32\n",
    "train_loader = DataLoader(train_data,batch_size=batchsize,shuffle=True,drop_last=True)\n",
    "test_loader  = DataLoader(test_data,batch_size=test_data.tensors[0].shape[0])"
   ]
  },
  {
   "cell_type": "markdown",
   "metadata": {
    "id": "OK8Opkhgp0bO"
   },
   "source": [
    "# Create the DL model"
   ]
  },
  {
   "cell_type": "code",
   "execution_count": 6,
   "metadata": {
    "id": "JK3OO3tAtZkA"
   },
   "outputs": [],
   "source": [
    "# create a class for the model\n",
    "def createTheMNISTNet():\n",
    "\n",
    "  class mnistNet(nn.Module):\n",
    "    def __init__(self):\n",
    "      super().__init__()\n",
    "\n",
    "      ### input layer\n",
    "      self.input = nn.Linear(784,64)\n",
    "      \n",
    "      ### hidden layer\n",
    "      self.fc1 = nn.Linear(64,32)\n",
    "      self.fc2 = nn.Linear(32,32)\n",
    "\n",
    "      ### output layer\n",
    "      self.output = nn.Linear(32,10)\n",
    "\n",
    "    # forward pass\n",
    "    def forward(self,x):\n",
    "      x = F.relu( self.input(x) )\n",
    "      x = F.relu( self.fc1(x) )\n",
    "      x = F.relu( self.fc2(x) )\n",
    "      return self.output(x)\n",
    "  \n",
    "  # create the model instance\n",
    "  net = mnistNet()\n",
    "  \n",
    "  # loss function\n",
    "  lossfun = nn.CrossEntropyLoss()\n",
    "\n",
    "  # optimizer\n",
    "  optimizer = torch.optim.Adam(net.parameters(),lr=.01)\n",
    "\n",
    "  return net,lossfun,optimizer"
   ]
  },
  {
   "cell_type": "markdown",
   "metadata": {
    "id": "dvfGQIRGp0ht"
   },
   "source": [
    "# Create a function that trains the model"
   ]
  },
  {
   "cell_type": "code",
   "execution_count": 7,
   "metadata": {
    "id": "IblJo1NCp0kl"
   },
   "outputs": [],
   "source": [
    "def function2trainTheModel():\n",
    "\n",
    "  # Start the timer!\n",
    "  timerInFunction = time.process_time()\n",
    "\n",
    "  # number of epochs\n",
    "  numepochs = 10\n",
    "  \n",
    "  # create a new model\n",
    "  net,lossfun,optimizer = createTheMNISTNet()\n",
    "\n",
    "  # initialize losses\n",
    "  losses    = torch.zeros(numepochs)\n",
    "  trainAcc  = []\n",
    "  testAcc   = []\n",
    "\n",
    "\n",
    "  # loop over epochs\n",
    "  for epochi in range(numepochs):\n",
    "\n",
    "    # loop over training data batches\n",
    "    batchAcc  = []\n",
    "    batchLoss = []\n",
    "    for X,y in train_loader:\n",
    "\n",
    "      # forward pass and loss\n",
    "      yHat = net(X)\n",
    "      loss = lossfun(yHat,y)\n",
    "\n",
    "      # backprop\n",
    "      optimizer.zero_grad()\n",
    "      loss.backward()\n",
    "      optimizer.step()\n",
    "\n",
    "      # loss from this batch\n",
    "      batchLoss.append(loss.item())\n",
    "\n",
    "      # compute accuracy\n",
    "      matches = torch.argmax(yHat,axis=1) == y     # booleans (false/true)\n",
    "      matchesNumeric = matches.float()             # convert to numbers (0/1)\n",
    "      accuracyPct = 100*torch.mean(matchesNumeric) # average and x100\n",
    "      batchAcc.append( accuracyPct )               # add to list of accuracies\n",
    "    # end of batch loop...\n",
    "\n",
    "    # now that we've trained through the batches, get their average training accuracy\n",
    "    trainAcc.append( np.mean(batchAcc) )\n",
    "\n",
    "    # and get average losses across the batches\n",
    "    losses[epochi] = np.mean(batchLoss)\n",
    "\n",
    "    # test accuracy\n",
    "    X,y = next(iter(test_loader)) # extract X,y from test dataloader\n",
    "    with torch.no_grad(): # deactivates autograd\n",
    "      yHat = net(X)\n",
    "      \n",
    "    # compare the following really long line of code to the training accuracy lines\n",
    "    testAcc.append( 100*torch.mean((torch.argmax(yHat,axis=1)==y).float()) )\n",
    "\n",
    "    # Finally, report the epoch number, computation time, and accuracy\n",
    "    comptime = time.process_time() - timerInFunction\n",
    "    print(f'Epoch {epochi+1}/{numepochs}, elapsed time: {comptime:.2f} sec, test accuracy {testAcc[-1]:.0f}%')\n",
    "\n",
    "  # end epochs\n",
    "\n",
    "  # function output\n",
    "  return trainAcc,testAcc,losses,net"
   ]
  },
  {
   "cell_type": "markdown",
   "metadata": {
    "id": "XpGm9xdQ27Ob"
   },
   "source": [
    "# Run the model and show the results!"
   ]
  },
  {
   "cell_type": "code",
   "execution_count": 8,
   "metadata": {
    "id": "l9pCC1R2p0nu"
   },
   "outputs": [
    {
     "name": "stdout",
     "output_type": "stream",
     "text": [
      "Epoch 1/10, elapsed time: 6.73 sec, test accuracy 95%\n",
      "Epoch 2/10, elapsed time: 14.23 sec, test accuracy 95%\n",
      "Epoch 3/10, elapsed time: 22.15 sec, test accuracy 94%\n",
      "Epoch 4/10, elapsed time: 29.91 sec, test accuracy 95%\n",
      "Epoch 5/10, elapsed time: 37.53 sec, test accuracy 96%\n",
      "Epoch 6/10, elapsed time: 44.89 sec, test accuracy 96%\n",
      "Epoch 7/10, elapsed time: 52.36 sec, test accuracy 96%\n",
      "Epoch 8/10, elapsed time: 59.73 sec, test accuracy 96%\n",
      "Epoch 9/10, elapsed time: 66.88 sec, test accuracy 96%\n",
      "Epoch 10/10, elapsed time: 73.95 sec, test accuracy 96%\n"
     ]
    }
   ],
   "source": [
    "trainAcc,testAcc,losses,net = function2trainTheModel()"
   ]
  },
  {
   "cell_type": "code",
   "execution_count": 9,
   "metadata": {
    "id": "gHzKOZjnp0qn"
   },
   "outputs": [
    {
     "name": "stdout",
     "output_type": "stream",
     "text": [
      "Epoch 1/10, elapsed time: 6.62 sec, test accuracy 93%\n",
      "Epoch 2/10, elapsed time: 13.63 sec, test accuracy 95%\n",
      "Epoch 3/10, elapsed time: 20.61 sec, test accuracy 95%\n",
      "Epoch 4/10, elapsed time: 27.61 sec, test accuracy 95%\n",
      "Epoch 5/10, elapsed time: 34.64 sec, test accuracy 96%\n",
      "Epoch 6/10, elapsed time: 41.82 sec, test accuracy 96%\n",
      "Epoch 7/10, elapsed time: 48.95 sec, test accuracy 96%\n",
      "Epoch 8/10, elapsed time: 55.98 sec, test accuracy 96%\n",
      "Epoch 9/10, elapsed time: 63.01 sec, test accuracy 96%\n",
      "Epoch 10/10, elapsed time: 70.12 sec, test accuracy 96%\n",
      "Epoch 1/10, elapsed time: 6.73 sec, test accuracy 94%\n",
      "Epoch 2/10, elapsed time: 14.06 sec, test accuracy 95%\n",
      "Epoch 3/10, elapsed time: 21.23 sec, test accuracy 96%\n",
      "Epoch 4/10, elapsed time: 28.62 sec, test accuracy 95%\n",
      "Epoch 5/10, elapsed time: 35.84 sec, test accuracy 95%\n",
      "Epoch 6/10, elapsed time: 43.06 sec, test accuracy 95%\n",
      "Epoch 7/10, elapsed time: 50.33 sec, test accuracy 96%\n",
      "Epoch 8/10, elapsed time: 57.66 sec, test accuracy 95%\n",
      "Epoch 9/10, elapsed time: 65.09 sec, test accuracy 96%\n",
      "Epoch 10/10, elapsed time: 72.61 sec, test accuracy 96%\n",
      "Epoch 1/10, elapsed time: 6.94 sec, test accuracy 93%\n",
      "Epoch 2/10, elapsed time: 14.30 sec, test accuracy 94%\n",
      "Epoch 3/10, elapsed time: 21.44 sec, test accuracy 94%\n",
      "Epoch 4/10, elapsed time: 28.57 sec, test accuracy 96%\n",
      "Epoch 5/10, elapsed time: 35.76 sec, test accuracy 95%\n",
      "Epoch 6/10, elapsed time: 42.95 sec, test accuracy 96%\n",
      "Epoch 7/10, elapsed time: 50.51 sec, test accuracy 94%\n",
      "Epoch 8/10, elapsed time: 57.67 sec, test accuracy 96%\n",
      "Epoch 9/10, elapsed time: 64.83 sec, test accuracy 96%\n",
      "Epoch 10/10, elapsed time: 72.12 sec, test accuracy 96%\n",
      "Epoch 1/10, elapsed time: 6.92 sec, test accuracy 94%\n",
      "Epoch 2/10, elapsed time: 14.08 sec, test accuracy 95%\n",
      "Epoch 3/10, elapsed time: 21.29 sec, test accuracy 95%\n",
      "Epoch 4/10, elapsed time: 28.52 sec, test accuracy 95%\n",
      "Epoch 5/10, elapsed time: 35.98 sec, test accuracy 96%\n",
      "Epoch 6/10, elapsed time: 43.13 sec, test accuracy 96%\n",
      "Epoch 7/10, elapsed time: 50.53 sec, test accuracy 96%\n",
      "Epoch 8/10, elapsed time: 57.71 sec, test accuracy 95%\n",
      "Epoch 9/10, elapsed time: 65.02 sec, test accuracy 95%\n",
      "Epoch 10/10, elapsed time: 72.32 sec, test accuracy 95%\n",
      "Epoch 1/10, elapsed time: 6.58 sec, test accuracy 94%\n",
      "Epoch 2/10, elapsed time: 13.57 sec, test accuracy 94%\n",
      "Epoch 3/10, elapsed time: 20.96 sec, test accuracy 94%\n",
      "Epoch 4/10, elapsed time: 28.31 sec, test accuracy 95%\n",
      "Epoch 5/10, elapsed time: 35.48 sec, test accuracy 96%\n",
      "Epoch 6/10, elapsed time: 42.96 sec, test accuracy 96%\n",
      "Epoch 7/10, elapsed time: 50.39 sec, test accuracy 96%\n",
      "Epoch 8/10, elapsed time: 57.59 sec, test accuracy 96%\n",
      "Epoch 9/10, elapsed time: 65.01 sec, test accuracy 96%\n",
      "Epoch 10/10, elapsed time: 72.45 sec, test accuracy 96%\n",
      "Epoch 1/10, elapsed time: 7.05 sec, test accuracy 94%\n",
      "Epoch 2/10, elapsed time: 14.29 sec, test accuracy 94%\n",
      "Epoch 3/10, elapsed time: 21.58 sec, test accuracy 95%\n",
      "Epoch 4/10, elapsed time: 28.95 sec, test accuracy 95%\n",
      "Epoch 5/10, elapsed time: 36.29 sec, test accuracy 96%\n",
      "Epoch 6/10, elapsed time: 45.36 sec, test accuracy 95%\n",
      "Epoch 7/10, elapsed time: 53.00 sec, test accuracy 96%\n",
      "Epoch 8/10, elapsed time: 60.38 sec, test accuracy 96%\n",
      "Epoch 9/10, elapsed time: 67.98 sec, test accuracy 96%\n",
      "Epoch 10/10, elapsed time: 75.57 sec, test accuracy 96%\n",
      "Epoch 1/10, elapsed time: 6.68 sec, test accuracy 94%\n",
      "Epoch 2/10, elapsed time: 13.94 sec, test accuracy 95%\n",
      "Epoch 3/10, elapsed time: 21.23 sec, test accuracy 95%\n",
      "Epoch 4/10, elapsed time: 28.68 sec, test accuracy 96%\n",
      "Epoch 5/10, elapsed time: 36.05 sec, test accuracy 96%\n",
      "Epoch 6/10, elapsed time: 43.43 sec, test accuracy 96%\n",
      "Epoch 7/10, elapsed time: 50.76 sec, test accuracy 96%\n",
      "Epoch 8/10, elapsed time: 58.08 sec, test accuracy 96%\n",
      "Epoch 9/10, elapsed time: 65.71 sec, test accuracy 96%\n",
      "Epoch 10/10, elapsed time: 72.93 sec, test accuracy 96%\n",
      "Epoch 1/10, elapsed time: 6.67 sec, test accuracy 94%\n",
      "Epoch 2/10, elapsed time: 14.07 sec, test accuracy 95%\n",
      "Epoch 3/10, elapsed time: 21.60 sec, test accuracy 96%\n",
      "Epoch 4/10, elapsed time: 28.79 sec, test accuracy 95%\n",
      "Epoch 5/10, elapsed time: 35.96 sec, test accuracy 95%\n",
      "Epoch 6/10, elapsed time: 43.22 sec, test accuracy 95%\n",
      "Epoch 7/10, elapsed time: 50.39 sec, test accuracy 96%\n",
      "Epoch 8/10, elapsed time: 57.57 sec, test accuracy 96%\n",
      "Epoch 9/10, elapsed time: 64.86 sec, test accuracy 96%\n",
      "Epoch 10/10, elapsed time: 72.07 sec, test accuracy 96%\n",
      "Epoch 1/10, elapsed time: 6.73 sec, test accuracy 93%\n",
      "Epoch 2/10, elapsed time: 13.82 sec, test accuracy 94%\n",
      "Epoch 3/10, elapsed time: 20.96 sec, test accuracy 94%\n",
      "Epoch 4/10, elapsed time: 28.21 sec, test accuracy 95%\n",
      "Epoch 5/10, elapsed time: 35.50 sec, test accuracy 95%\n",
      "Epoch 6/10, elapsed time: 42.72 sec, test accuracy 96%\n",
      "Epoch 7/10, elapsed time: 49.92 sec, test accuracy 96%\n",
      "Epoch 8/10, elapsed time: 57.14 sec, test accuracy 95%\n",
      "Epoch 9/10, elapsed time: 64.46 sec, test accuracy 96%\n",
      "Epoch 10/10, elapsed time: 71.71 sec, test accuracy 95%\n",
      "Epoch 1/10, elapsed time: 6.72 sec, test accuracy 94%\n",
      "Epoch 2/10, elapsed time: 13.91 sec, test accuracy 96%\n",
      "Epoch 3/10, elapsed time: 21.23 sec, test accuracy 95%\n",
      "Epoch 4/10, elapsed time: 28.48 sec, test accuracy 96%\n",
      "Epoch 5/10, elapsed time: 35.92 sec, test accuracy 95%\n",
      "Epoch 6/10, elapsed time: 43.16 sec, test accuracy 96%\n",
      "Epoch 7/10, elapsed time: 50.42 sec, test accuracy 97%\n",
      "Epoch 8/10, elapsed time: 57.76 sec, test accuracy 96%\n",
      "Epoch 9/10, elapsed time: 65.00 sec, test accuracy 96%\n",
      "Epoch 10/10, elapsed time: 72.28 sec, test accuracy 95%\n",
      "\n",
      "\n",
      "\n",
      "Total elapsed experiment time: 12.07 minutes\n"
     ]
    }
   ],
   "source": [
    "# now run a second timer over repeated iterations\n",
    "\n",
    "# Start the timer! (note the different variable name)\n",
    "timerOutsideFunction = time.process_time()\n",
    "\n",
    "for i in range(10):\n",
    "  function2trainTheModel()\n",
    "\n",
    "TotalExperimentTime = time.process_time() - timerOutsideFunction\n",
    "print(f'\\n\\n\\nTotal elapsed experiment time: {TotalExperimentTime/60:.2f} minutes')"
   ]
  },
  {
   "cell_type": "code",
   "execution_count": null,
   "metadata": {
    "id": "VOsqp9Dosb1i"
   },
   "outputs": [],
   "source": []
  },
  {
   "cell_type": "markdown",
   "metadata": {
    "id": "7KP-981UsbjS"
   },
   "source": [
    "# Additional explorations"
   ]
  },
  {
   "cell_type": "code",
   "execution_count": null,
   "metadata": {
    "id": "JdnIdmBjsd2U"
   },
   "outputs": [],
   "source": [
    "# 1) Modify the TotalExperimentTime code so that it prints minutes and seconds. For example, 500 seconds is \n",
    "#    8 minutes and 20 seconds.\n",
    "# \n",
    "# 2) Modify the code inside the training function so that the display prints on only every 5th epoch.\n",
    "# "
   ]
  }
 ],
 "metadata": {
  "colab": {
   "authorship_tag": "ABX9TyOLT4hQ9ERrLRzD5qIzpfY0",
   "provenance": [
    {
     "file_id": "13SFr82QoaJr9so_o_rSl1L9WbOMXpUSR",
     "timestamp": 1618861176115
    },
    {
     "file_id": "1FcEBC0NAESIlHQkv6_85R-XDUKGE8XbM",
     "timestamp": 1618848117844
    },
    {
     "file_id": "1qKgZ8kVcqNgwtBzHbWq5yJH_HqI6DxWW",
     "timestamp": 1617803880910
    },
    {
     "file_id": "15cpyHkJ435B4MqbyGjAH1poN4nCy_DE4",
     "timestamp": 1617737766196
    },
    {
     "file_id": "1OLuWuaFu0hcFgkQ2hh5BqbRuqUZD7XcQ",
     "timestamp": 1617734878578
    },
    {
     "file_id": "1XvzVGJPTJifVh8OpZVB7ykLxyUqYwQ1j",
     "timestamp": 1617196833019
    },
    {
     "file_id": "1bv1_y32e3KEExFKKlPfC3rpw1JxmBr8H",
     "timestamp": 1617124341706
    },
    {
     "file_id": "1GMq8u7KyHB2AE7Teyls9gK1T01OduQSn",
     "timestamp": 1616697516760
    },
    {
     "file_id": "1Ui3kyHim-e0XLgDs2mkBxVlYg7TKYtcg",
     "timestamp": 1616615469755
    },
    {
     "file_id": "1YpHocGI4rApOxIBb1ZghCU5L-hFnv4CK",
     "timestamp": 1616608248670
    }
   ]
  },
  "kernelspec": {
   "display_name": "Python 3 (ipykernel)",
   "language": "python",
   "name": "python3"
  },
  "language_info": {
   "codemirror_mode": {
    "name": "ipython",
    "version": 3
   },
   "file_extension": ".py",
   "mimetype": "text/x-python",
   "name": "python",
   "nbconvert_exporter": "python",
   "pygments_lexer": "ipython3",
   "version": "3.11.4"
  }
 },
 "nbformat": 4,
 "nbformat_minor": 1
}
