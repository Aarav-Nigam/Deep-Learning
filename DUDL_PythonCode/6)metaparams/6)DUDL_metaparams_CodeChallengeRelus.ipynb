{
 "cells": [
  {
   "cell_type": "markdown",
   "metadata": {
    "id": "bhWV8oes-wKR"
   },
   "source": [
    "# COURSE: A deep understanding of deep learning\n",
    "## SECTION: Metaparameters (activation, batch, optimizers)\n",
    "### LECTURE: CodeChallenge: Compare relu variants\n",
    "#### TEACHER: Mike X Cohen, sincxpress.com\n",
    "##### COURSE URL: udemy.com/course/deeplearning_x/?couponCode=202305"
   ]
  },
  {
   "cell_type": "code",
   "execution_count": 2,
   "metadata": {
    "id": "7U3TmybM4yMw"
   },
   "outputs": [],
   "source": [
    "### import libraries\n",
    "\n",
    "# for DL modeling\n",
    "import torch\n",
    "import torch.nn as nn\n",
    "import torch.nn.functional as F\n",
    "from torch.utils.data import DataLoader\n",
    "from sklearn.model_selection import train_test_split\n",
    "\n",
    "# for number-crunching\n",
    "import numpy as np\n",
    "import scipy.stats as stats\n",
    "\n",
    "# for dataset management\n",
    "import pandas as pd\n",
    "\n",
    "# for data visualization\n",
    "import matplotlib.pyplot as plt\n",
    "import seaborn as sns"
   ]
  },
  {
   "cell_type": "markdown",
   "metadata": {
    "id": "2anVFzBXGdwH"
   },
   "source": [
    "# Import and process the data"
   ]
  },
  {
   "cell_type": "code",
   "execution_count": 3,
   "metadata": {
    "id": "0ohXIxzt4_U2"
   },
   "outputs": [
    {
     "name": "stderr",
     "output_type": "stream",
     "text": [
      "/tmp/ipykernel_12502/2450079689.py:18: SettingWithCopyWarning: \n",
      "A value is trying to be set on a copy of a slice from a DataFrame\n",
      "\n",
      "See the caveats in the documentation: https://pandas.pydata.org/pandas-docs/stable/user_guide/indexing.html#returning-a-view-versus-a-copy\n",
      "  data['boolQuality'][data['quality']>5] = 1\n"
     ]
    }
   ],
   "source": [
    "# import the data\n",
    "# url = \"https://archive.ics.uci.edu/ml/machine-learning-databases/wine-quality/winequality-red.csv\"\n",
    "# data = pd.read_csv(url,sep=';')\n",
    "\n",
    "url=\"/home/aaravnigam/Documents/Machine-Leaning-Data-Science-AI/Deep Learning/DUDL_PythonCode/Dataset/archive/winequality-red.csv\"\n",
    "data = pd.read_csv(url)\n",
    "\n",
    "data = data[data['total sulfur dioxide']<200] # drop a few outliers\n",
    "\n",
    "# z-score all columns except for quality\n",
    "cols2zscore = data.keys()\n",
    "cols2zscore = cols2zscore.drop('quality')\n",
    "data[cols2zscore] = data[cols2zscore].apply(stats.zscore)\n",
    "\n",
    "# create a new column for binarized (boolean) quality\n",
    "data['boolQuality'] = 0\n",
    "# data['boolQuality'][data['quality']<6] = 0 # implicit in the code! just here for clarity\n",
    "data['boolQuality'][data['quality']>5] = 1\n",
    "\n",
    "# note: use the following lines to avoid the warning message\n",
    "#tmp = (data['quality']>qualThreshold ).astype(int)\n",
    "#data['boolQuality'] = tmp"
   ]
  },
  {
   "cell_type": "code",
   "execution_count": 4,
   "metadata": {
    "id": "qjvI_6Su5Gk-"
   },
   "outputs": [
    {
     "data": {
      "text/html": [
       "<div>\n",
       "<style scoped>\n",
       "    .dataframe tbody tr th:only-of-type {\n",
       "        vertical-align: middle;\n",
       "    }\n",
       "\n",
       "    .dataframe tbody tr th {\n",
       "        vertical-align: top;\n",
       "    }\n",
       "\n",
       "    .dataframe thead th {\n",
       "        text-align: right;\n",
       "    }\n",
       "</style>\n",
       "<table border=\"1\" class=\"dataframe\">\n",
       "  <thead>\n",
       "    <tr style=\"text-align: right;\">\n",
       "      <th></th>\n",
       "      <th>fixed acidity</th>\n",
       "      <th>volatile acidity</th>\n",
       "      <th>citric acid</th>\n",
       "      <th>residual sugar</th>\n",
       "      <th>chlorides</th>\n",
       "      <th>free sulfur dioxide</th>\n",
       "      <th>total sulfur dioxide</th>\n",
       "      <th>density</th>\n",
       "      <th>pH</th>\n",
       "      <th>sulphates</th>\n",
       "      <th>alcohol</th>\n",
       "      <th>quality</th>\n",
       "      <th>boolQuality</th>\n",
       "    </tr>\n",
       "  </thead>\n",
       "  <tbody>\n",
       "    <tr>\n",
       "      <th>0</th>\n",
       "      <td>-0.528350</td>\n",
       "      <td>0.960657</td>\n",
       "      <td>-1.391823</td>\n",
       "      <td>-0.452579</td>\n",
       "      <td>-0.244648</td>\n",
       "      <td>-0.464558</td>\n",
       "      <td>-0.382535</td>\n",
       "      <td>0.556807</td>\n",
       "      <td>1.288470</td>\n",
       "      <td>-0.580216</td>\n",
       "      <td>-0.959307</td>\n",
       "      <td>5</td>\n",
       "      <td>0</td>\n",
       "    </tr>\n",
       "    <tr>\n",
       "      <th>1</th>\n",
       "      <td>-0.298673</td>\n",
       "      <td>1.966614</td>\n",
       "      <td>-1.391823</td>\n",
       "      <td>0.049020</td>\n",
       "      <td>0.222827</td>\n",
       "      <td>0.877032</td>\n",
       "      <td>0.654661</td>\n",
       "      <td>0.025923</td>\n",
       "      <td>-0.723652</td>\n",
       "      <td>0.127837</td>\n",
       "      <td>-0.583341</td>\n",
       "      <td>5</td>\n",
       "      <td>0</td>\n",
       "    </tr>\n",
       "    <tr>\n",
       "      <th>2</th>\n",
       "      <td>-0.298673</td>\n",
       "      <td>1.295976</td>\n",
       "      <td>-1.185980</td>\n",
       "      <td>-0.165951</td>\n",
       "      <td>0.095334</td>\n",
       "      <td>-0.081247</td>\n",
       "      <td>0.246069</td>\n",
       "      <td>0.132100</td>\n",
       "      <td>-0.334209</td>\n",
       "      <td>-0.049176</td>\n",
       "      <td>-0.583341</td>\n",
       "      <td>5</td>\n",
       "      <td>0</td>\n",
       "    </tr>\n",
       "    <tr>\n",
       "      <th>3</th>\n",
       "      <td>1.653579</td>\n",
       "      <td>-1.386577</td>\n",
       "      <td>1.489975</td>\n",
       "      <td>-0.452579</td>\n",
       "      <td>-0.265897</td>\n",
       "      <td>0.110409</td>\n",
       "      <td>0.434650</td>\n",
       "      <td>0.662984</td>\n",
       "      <td>-0.983280</td>\n",
       "      <td>-0.462207</td>\n",
       "      <td>-0.583341</td>\n",
       "      <td>6</td>\n",
       "      <td>1</td>\n",
       "    </tr>\n",
       "    <tr>\n",
       "      <th>4</th>\n",
       "      <td>-0.528350</td>\n",
       "      <td>0.960657</td>\n",
       "      <td>-1.391823</td>\n",
       "      <td>-0.452579</td>\n",
       "      <td>-0.244648</td>\n",
       "      <td>-0.464558</td>\n",
       "      <td>-0.382535</td>\n",
       "      <td>0.556807</td>\n",
       "      <td>1.288470</td>\n",
       "      <td>-0.580216</td>\n",
       "      <td>-0.959307</td>\n",
       "      <td>5</td>\n",
       "      <td>0</td>\n",
       "    </tr>\n",
       "    <tr>\n",
       "      <th>...</th>\n",
       "      <td>...</td>\n",
       "      <td>...</td>\n",
       "      <td>...</td>\n",
       "      <td>...</td>\n",
       "      <td>...</td>\n",
       "      <td>...</td>\n",
       "      <td>...</td>\n",
       "      <td>...</td>\n",
       "      <td>...</td>\n",
       "      <td>...</td>\n",
       "      <td>...</td>\n",
       "      <td>...</td>\n",
       "      <td>...</td>\n",
       "    </tr>\n",
       "    <tr>\n",
       "      <th>1594</th>\n",
       "      <td>-1.217380</td>\n",
       "      <td>0.401792</td>\n",
       "      <td>-0.980138</td>\n",
       "      <td>-0.380922</td>\n",
       "      <td>0.052836</td>\n",
       "      <td>1.547828</td>\n",
       "      <td>-0.068233</td>\n",
       "      <td>-0.982759</td>\n",
       "      <td>0.899027</td>\n",
       "      <td>-0.462207</td>\n",
       "      <td>0.074599</td>\n",
       "      <td>5</td>\n",
       "      <td>0</td>\n",
       "    </tr>\n",
       "    <tr>\n",
       "      <th>1595</th>\n",
       "      <td>-1.389638</td>\n",
       "      <td>0.122359</td>\n",
       "      <td>-0.877216</td>\n",
       "      <td>-0.237608</td>\n",
       "      <td>-0.542132</td>\n",
       "      <td>2.218623</td>\n",
       "      <td>0.151778</td>\n",
       "      <td>-0.865964</td>\n",
       "      <td>1.353377</td>\n",
       "      <td>0.599872</td>\n",
       "      <td>0.732539</td>\n",
       "      <td>6</td>\n",
       "      <td>1</td>\n",
       "    </tr>\n",
       "    <tr>\n",
       "      <th>1596</th>\n",
       "      <td>-1.159961</td>\n",
       "      <td>-0.101187</td>\n",
       "      <td>-0.722834</td>\n",
       "      <td>-0.165951</td>\n",
       "      <td>-0.244648</td>\n",
       "      <td>1.260344</td>\n",
       "      <td>-0.193954</td>\n",
       "      <td>-0.536815</td>\n",
       "      <td>0.704305</td>\n",
       "      <td>0.540868</td>\n",
       "      <td>0.544556</td>\n",
       "      <td>6</td>\n",
       "      <td>1</td>\n",
       "    </tr>\n",
       "    <tr>\n",
       "      <th>1597</th>\n",
       "      <td>-1.389638</td>\n",
       "      <td>0.653281</td>\n",
       "      <td>-0.774295</td>\n",
       "      <td>-0.380922</td>\n",
       "      <td>-0.265897</td>\n",
       "      <td>1.547828</td>\n",
       "      <td>-0.068233</td>\n",
       "      <td>-0.680154</td>\n",
       "      <td>1.677912</td>\n",
       "      <td>0.304850</td>\n",
       "      <td>-0.207376</td>\n",
       "      <td>5</td>\n",
       "      <td>0</td>\n",
       "    </tr>\n",
       "    <tr>\n",
       "      <th>1598</th>\n",
       "      <td>-1.332219</td>\n",
       "      <td>-1.218918</td>\n",
       "      <td>1.026829</td>\n",
       "      <td>0.765590</td>\n",
       "      <td>-0.435888</td>\n",
       "      <td>0.206237</td>\n",
       "      <td>-0.131094</td>\n",
       "      <td>-0.669536</td>\n",
       "      <td>0.509584</td>\n",
       "      <td>0.009828</td>\n",
       "      <td>0.544556</td>\n",
       "      <td>6</td>\n",
       "      <td>1</td>\n",
       "    </tr>\n",
       "  </tbody>\n",
       "</table>\n",
       "<p>1597 rows × 13 columns</p>\n",
       "</div>"
      ],
      "text/plain": [
       "      fixed acidity  volatile acidity  citric acid  residual sugar  chlorides  \\\n",
       "0         -0.528350          0.960657    -1.391823       -0.452579  -0.244648   \n",
       "1         -0.298673          1.966614    -1.391823        0.049020   0.222827   \n",
       "2         -0.298673          1.295976    -1.185980       -0.165951   0.095334   \n",
       "3          1.653579         -1.386577     1.489975       -0.452579  -0.265897   \n",
       "4         -0.528350          0.960657    -1.391823       -0.452579  -0.244648   \n",
       "...             ...               ...          ...             ...        ...   \n",
       "1594      -1.217380          0.401792    -0.980138       -0.380922   0.052836   \n",
       "1595      -1.389638          0.122359    -0.877216       -0.237608  -0.542132   \n",
       "1596      -1.159961         -0.101187    -0.722834       -0.165951  -0.244648   \n",
       "1597      -1.389638          0.653281    -0.774295       -0.380922  -0.265897   \n",
       "1598      -1.332219         -1.218918     1.026829        0.765590  -0.435888   \n",
       "\n",
       "      free sulfur dioxide  total sulfur dioxide   density        pH  \\\n",
       "0               -0.464558             -0.382535  0.556807  1.288470   \n",
       "1                0.877032              0.654661  0.025923 -0.723652   \n",
       "2               -0.081247              0.246069  0.132100 -0.334209   \n",
       "3                0.110409              0.434650  0.662984 -0.983280   \n",
       "4               -0.464558             -0.382535  0.556807  1.288470   \n",
       "...                   ...                   ...       ...       ...   \n",
       "1594             1.547828             -0.068233 -0.982759  0.899027   \n",
       "1595             2.218623              0.151778 -0.865964  1.353377   \n",
       "1596             1.260344             -0.193954 -0.536815  0.704305   \n",
       "1597             1.547828             -0.068233 -0.680154  1.677912   \n",
       "1598             0.206237             -0.131094 -0.669536  0.509584   \n",
       "\n",
       "      sulphates   alcohol  quality  boolQuality  \n",
       "0     -0.580216 -0.959307        5            0  \n",
       "1      0.127837 -0.583341        5            0  \n",
       "2     -0.049176 -0.583341        5            0  \n",
       "3     -0.462207 -0.583341        6            1  \n",
       "4     -0.580216 -0.959307        5            0  \n",
       "...         ...       ...      ...          ...  \n",
       "1594  -0.462207  0.074599        5            0  \n",
       "1595   0.599872  0.732539        6            1  \n",
       "1596   0.540868  0.544556        6            1  \n",
       "1597   0.304850 -0.207376        5            0  \n",
       "1598   0.009828  0.544556        6            1  \n",
       "\n",
       "[1597 rows x 13 columns]"
      ]
     },
     "execution_count": 4,
     "metadata": {},
     "output_type": "execute_result"
    }
   ],
   "source": [
    "data"
   ]
  },
  {
   "cell_type": "markdown",
   "metadata": {
    "id": "vGQd7xmM5Gns"
   },
   "source": [
    "# Re-organize the data: train/test in DataLoaders"
   ]
  },
  {
   "cell_type": "code",
   "execution_count": 5,
   "metadata": {
    "id": "2kZ6YPe8Gav5"
   },
   "outputs": [],
   "source": [
    "# convert from pandas dataframe to tensor\n",
    "dataT  = torch.tensor( data[cols2zscore].values ).float()\n",
    "labels = torch.tensor( data['boolQuality'].values ).float()\n",
    "labels = labels[:,None] # transform to matrix"
   ]
  },
  {
   "cell_type": "code",
   "execution_count": 6,
   "metadata": {
    "id": "bbf064xxGa_x"
   },
   "outputs": [],
   "source": [
    "# use scikitlearn to split the data\n",
    "train_data,test_data, train_labels,test_labels = train_test_split(dataT, labels, test_size=.1)\n",
    "\n",
    "# then convert them into PyTorch Datasets (note: already converted to tensors)\n",
    "train_data = torch.utils.data.TensorDataset(train_data,train_labels)\n",
    "test_data  = torch.utils.data.TensorDataset(test_data,test_labels)\n",
    "\n",
    "# finally, translate into dataloader objects\n",
    "batchsize    = 64\n",
    "train_loader = DataLoader(train_data,batch_size=batchsize,shuffle=True,drop_last=True)\n",
    "test_loader  = DataLoader(test_data,batch_size=test_data.tensors[0].shape[0])"
   ]
  },
  {
   "cell_type": "markdown",
   "metadata": {
    "id": "I7g0mivk5GqP"
   },
   "source": [
    "# Now for the DL part"
   ]
  },
  {
   "cell_type": "code",
   "execution_count": 7,
   "metadata": {
    "id": "N0vAnQi9DNRa"
   },
   "outputs": [],
   "source": [
    "# create a class for the model\n",
    "\n",
    "class ANNwine(nn.Module):\n",
    "  def __init__(self,actfun):\n",
    "    super().__init__()\n",
    "\n",
    "    ### input layer\n",
    "    self.input = nn.Linear(11,16)\n",
    "    \n",
    "    ### hidden layers\n",
    "    self.fc1 = nn.Linear(16,32)\n",
    "    self.fc2 = nn.Linear(32,32)\n",
    "\n",
    "    ### output layer\n",
    "    self.output = nn.Linear(32,1)\n",
    "\n",
    "    # activation funcion to pass through\n",
    "    self.actfun = actfun\n",
    "  \n",
    "  # forward pass\n",
    "  def forward(self,x):\n",
    "    # get activation function type\n",
    "    # this code replaces torch.relu with torch.<self.actfun>\n",
    "    actfun = getattr(torch.nn,self.actfun)\n",
    "    x = actfun()( self.input(x) )\n",
    "    x = actfun()( self.fc1(x) )\n",
    "    x = actfun()( self.fc2(x) )\n",
    "    return self.output(x)"
   ]
  },
  {
   "cell_type": "markdown",
   "metadata": {
    "id": "IuCixgNfDMZS"
   },
   "source": [
    "# Train the model"
   ]
  },
  {
   "cell_type": "code",
   "execution_count": 8,
   "metadata": {
    "id": "0XRPe56rGp2k"
   },
   "outputs": [],
   "source": [
    "# a function that trains the model\n",
    "\n",
    "# global parameter\n",
    "numepochs = 1000\n",
    "\n",
    "def trainTheModel():\n",
    "\n",
    "  # loss function and optimizer\n",
    "  lossfun = nn.BCEWithLogitsLoss()\n",
    "  optimizer = torch.optim.SGD(winenet.parameters(),lr=.001)\n",
    "\n",
    "  # initialize losses\n",
    "  losses   = torch.zeros(numepochs)\n",
    "  trainAcc = []\n",
    "  testAcc  = []\n",
    "\n",
    "  # loop over epochs\n",
    "  for epochi in range(numepochs):\n",
    "\n",
    "    # switch on training mode\n",
    "    winenet.train()\n",
    "\n",
    "    # loop over training data batches\n",
    "    batchAcc  = []\n",
    "    batchLoss = []\n",
    "    for X,y in train_loader:\n",
    "\n",
    "      # forward pass and loss\n",
    "      yHat = winenet(X)\n",
    "      loss = lossfun(yHat,y)\n",
    "\n",
    "      # backprop\n",
    "      optimizer.zero_grad()\n",
    "      loss.backward()\n",
    "      optimizer.step()\n",
    "\n",
    "      # loss from this batch\n",
    "      batchLoss.append(loss.item())\n",
    "\n",
    "      # compute training accuracy for this batch\n",
    "      batchAcc.append( 100*torch.mean(((yHat>0) == y).float()).item() )\n",
    "    # end of batch loop...\n",
    "\n",
    "    # now that we've trained through the batches, get their average training accuracy\n",
    "    trainAcc.append( np.mean(batchAcc) )\n",
    "\n",
    "    # and get average losses across the batches\n",
    "    losses[epochi] = np.mean(batchLoss)\n",
    "\n",
    "    # test accuracy\n",
    "    winenet.eval()\n",
    "    X,y = next(iter(test_loader)) # extract X,y from test dataloader\n",
    "    with torch.no_grad(): # deactivates autograd\n",
    "      yHat = winenet(X)\n",
    "    testAcc.append( 100*torch.mean(((yHat>0) == y).float()).item() )\n",
    "  \n",
    "  # function output\n",
    "  return trainAcc,testAcc,losses"
   ]
  },
  {
   "cell_type": "code",
   "execution_count": 9,
   "metadata": {
    "id": "oL7EqhYjGp51"
   },
   "outputs": [],
   "source": [
    "activation_funs = [ 'ReLU', 'ReLU6', 'LeakyReLU' ]\n",
    "\n",
    "trainByAct = np.zeros((numepochs,len(activation_funs)))\n",
    "testByAct  = np.zeros((numepochs,len(activation_funs)))\n",
    "\n",
    "for ai,actfun in enumerate(activation_funs):\n",
    "  # create a model and train it\n",
    "  winenet = ANNwine(actfun)\n",
    "  trainByAct[:,ai],testByAct[:,ai],losses = trainTheModel()\n"
   ]
  },
  {
   "cell_type": "code",
   "execution_count": 10,
   "metadata": {
    "id": "_7mAB4utDMeh"
   },
   "outputs": [
    {
     "data": {
      "image/png": "[encoded data removed]",
      "text/plain": [
       "<Figure size 2000x700 with 2 Axes>"
      ]
     },
     "metadata": {},
     "output_type": "display_data"
    }
   ],
   "source": [
    "# plot some results\n",
    "fig,ax = plt.subplots(1,2,figsize=(20,7))\n",
    "\n",
    "ax[0].plot(trainByAct)\n",
    "ax[0].set_title('Train accuracy')\n",
    "ax[1].plot(testByAct)\n",
    "ax[1].set_title('Test accuracy')\n",
    "\n",
    "# common features\n",
    "for i in range(2):\n",
    "  ax[i].legend(activation_funs)\n",
    "  ax[i].set_xlabel('Epoch')\n",
    "  ax[i].set_ylabel('Accuracy (%)')\n",
    "  ax[i].set_ylim([40,100])\n",
    "  ax[i].grid()\n",
    "\n",
    "plt.show()"
   ]
  },
  {
   "cell_type": "code",
   "execution_count": null,
   "metadata": {
    "id": "bE95OecdrMH3"
   },
   "outputs": [],
   "source": []
  },
  {
   "cell_type": "markdown",
   "metadata": {
    "id": "dGAvb_FQ3Oxk"
   },
   "source": [
    "# Additional explorations"
   ]
  },
  {
   "cell_type": "code",
   "execution_count": null,
   "metadata": {
    "id": "9W76IafB3PDL"
   },
   "outputs": [],
   "source": [
    "# This was a pretty straightforward codeChallenge, so there isn't much to expand. Feel free to try exploring the \n",
    "# standard DL metaparameters, including learning rate, number of training epochs, and batch size.\n",
    "# \n",
    "# It's also interesting the include other activation functions into the comparison. The following site lists the functions.\n",
    "#   https://pytorch.org/docs/stable/nn.html#non-linear-activations-weighted-sum-nonlinearity\n"
   ]
  }
 ],
 "metadata": {
  "colab": {
   "authorship_tag": "ABX9TyO99rtCZ/MJqkh+KQ8nhygy",
   "collapsed_sections": [],
   "name": "DUDL_metaparams_CodeChallengeRelus.ipynb",
   "provenance": [
    {
     "file_id": "1iKQU7riib5sbenxTvmpXe8EI5N79sdAV",
     "timestamp": 1617346475264
    },
    {
     "file_id": "1ZD_ADbh6qrlHE16V7Yc8VF9Vrn2c6bMQ",
     "timestamp": 1617047906157
    }
   ]
  },
  "kernelspec": {
   "display_name": "Python 3 (ipykernel)",
   "language": "python",
   "name": "python3"
  },
  "language_info": {
   "codemirror_mode": {
    "name": "ipython",
    "version": 3
   },
   "file_extension": ".py",
   "mimetype": "text/x-python",
   "name": "python",
   "nbconvert_exporter": "python",
   "pygments_lexer": "ipython3",
   "version": "3.11.3"
  }
 },
 "nbformat": 4,
 "nbformat_minor": 1
}
