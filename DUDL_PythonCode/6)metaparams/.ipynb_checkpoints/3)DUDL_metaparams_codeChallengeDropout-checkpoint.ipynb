{
 "cells": [
  {
   "cell_type": "markdown",
   "metadata": {
    "id": "bhWV8oes-wKR"
   },
   "source": [
    "# COURSE: A deep understanding of deep learning\n",
    "## SECTION: Metaparameters (activation, batch, optimizers)\n",
    "### LECTURE: Predicting wine quality\n",
    "#### TEACHER: Mike X Cohen, sincxpress.com\n",
    "##### COURSE URL: udemy.com/course/deeplearning_x/?couponCode=202305"
   ]
  },
  {
   "cell_type": "code",
   "execution_count": 1,
   "metadata": {
    "id": "7U3TmybM4yMw"
   },
   "outputs": [],
   "source": [
    "### import libraries\n",
    "\n",
    "# for DL modeling\n",
    "import torch\n",
    "import torch.nn as nn\n",
    "import torch.nn.functional as F\n",
    "from torch.utils.data import DataLoader\n",
    "from sklearn.model_selection import train_test_split\n",
    "\n",
    "# for number-crunching\n",
    "import numpy as np\n",
    "import scipy.stats as stats\n",
    "\n",
    "# for dataset management\n",
    "import pandas as pd\n",
    "\n",
    "# for data visualization\n",
    "import matplotlib.pyplot as plt\n",
    "import seaborn as sns"
   ]
  },
  {
   "cell_type": "markdown",
   "metadata": {
    "id": "2anVFzBXGdwH"
   },
   "source": [
    "# Import and process the data"
   ]
  },
  {
   "cell_type": "code",
   "execution_count": 2,
   "metadata": {
    "id": "0ohXIxzt4_U2"
   },
   "outputs": [
    {
     "name": "stderr",
     "output_type": "stream",
     "text": [
      "/tmp/ipykernel_4834/3418180866.py:19: SettingWithCopyWarning: \n",
      "A value is trying to be set on a copy of a slice from a DataFrame\n",
      "\n",
      "See the caveats in the documentation: https://pandas.pydata.org/pandas-docs/stable/user_guide/indexing.html#returning-a-view-versus-a-copy\n",
      "  data['boolQuality'][data['quality']>5] = 1\n"
     ]
    }
   ],
   "source": [
    "# import the data\n",
    "# url = \"https://archive.ics.uci.edu/ml/machine-learning-databases/wine-quality/winequality-red.csv\"\n",
    "# data = pd.read_csv(url,sep=';')\n",
    "\n",
    "url=\"/home/aaravnigam/Documents/Machine-Leaning-Data-Science-AI/Deep Learning/DUDL_PythonCode/Dataset/archive/winequality-red.csv\"\n",
    "data = pd.read_csv(url)\n",
    "\n",
    "data = data[data['total sulfur dioxide']<200]\n",
    "\n",
    "# find the columns we want to normalize (all except quality)\n",
    "# z-score (written out for clarity)\n",
    "cols2zscore = data.keys()\n",
    "cols2zscore = cols2zscore.drop('quality')\n",
    "data[cols2zscore] = data[cols2zscore].apply(stats.zscore)\n",
    "\n",
    "# create a new column for binarized (boolean) quality\n",
    "data['boolQuality'] = 0\n",
    "# data['boolQuality'][data['quality']<6] = 0 # implicit in the code! just here for clarity\n",
    "data['boolQuality'][data['quality']>5] = 1"
   ]
  },
  {
   "cell_type": "code",
   "execution_count": null,
   "metadata": {
    "id": "qjvI_6Su5Gk-"
   },
   "outputs": [],
   "source": []
  },
  {
   "cell_type": "markdown",
   "metadata": {
    "id": "vGQd7xmM5Gns"
   },
   "source": [
    "# Re-organize the data: train/test in DataLoaders"
   ]
  },
  {
   "cell_type": "code",
   "execution_count": 3,
   "metadata": {
    "id": "2kZ6YPe8Gav5"
   },
   "outputs": [],
   "source": [
    "# convert from pandas dataframe to tensor\n",
    "dataT  = torch.tensor( data[cols2zscore].values ).float()\n",
    "labels = torch.tensor( data['boolQuality'].values ).float()\n",
    "labels = labels[:,None] # transform to matrix"
   ]
  },
  {
   "cell_type": "code",
   "execution_count": 4,
   "metadata": {
    "id": "bbf064xxGa_x"
   },
   "outputs": [],
   "source": [
    "# use scikitlearn to split the data\n",
    "train_data,test_data, train_labels,test_labels = train_test_split(dataT, labels, test_size=.1)\n",
    "\n",
    "# then convert them into PyTorch Datasets (note: already converted to tensors)\n",
    "train_data = torch.utils.data.TensorDataset(train_data,train_labels)\n",
    "test_data  = torch.utils.data.TensorDataset(test_data,test_labels)\n",
    "\n",
    "# finally, translate into dataloader objects\n",
    "batchsize    = int(train_data.tensors[0].shape[0]/5)\n",
    "train_loader = DataLoader(train_data,batch_size=batchsize,shuffle=True,drop_last=True)\n",
    "test_loader  = DataLoader(test_data,batch_size=test_data.tensors[0].shape[0])"
   ]
  },
  {
   "cell_type": "code",
   "execution_count": 5,
   "metadata": {
    "id": "rflLNH9TGbap"
   },
   "outputs": [
    {
     "name": "stdout",
     "output_type": "stream",
     "text": [
      "torch.Size([287, 11]) torch.Size([287, 1])\n",
      "torch.Size([287, 11]) torch.Size([287, 1])\n",
      "torch.Size([287, 11]) torch.Size([287, 1])\n",
      "torch.Size([287, 11]) torch.Size([287, 1])\n",
      "torch.Size([287, 11]) torch.Size([287, 1])\n"
     ]
    }
   ],
   "source": [
    "# check sizes of data batches\n",
    "for X,y in train_loader:\n",
    "  print(X.shape,y.shape)\n",
    "\n",
    "# go back and set drop_last=True in training DataLoader"
   ]
  },
  {
   "cell_type": "markdown",
   "metadata": {
    "id": "I7g0mivk5GqP"
   },
   "source": [
    "# Now for the DL part"
   ]
  },
  {
   "cell_type": "code",
   "execution_count": 8,
   "metadata": {
    "id": "N0vAnQi9DNRa"
   },
   "outputs": [],
   "source": [
    "# create a class for the model\n",
    "\n",
    "class ANNwine(nn.Module):\n",
    "  def __init__(self):\n",
    "    super().__init__()\n",
    "\n",
    "    ### input layer\n",
    "    self.input = nn.Linear(11,16)\n",
    "    \n",
    "    ### hidden layers\n",
    "    self.fc1 = nn.Linear(16,32)\n",
    "    self.fc2 = nn.Linear(32,32)\n",
    "\n",
    "    ### output layer\n",
    "    self.output = nn.Linear(32,1)\n",
    "\n",
    "    # define dropout\n",
    "    self.dropout = nn.Dropout(.25)\n",
    "  \n",
    "\n",
    "  # forward pass\n",
    "  def forward(self,x):\n",
    "    x = F.relu( self.input(x) )\n",
    "    x = F.relu( self.fc1(x) )\n",
    "    x = self.dropout(x)\n",
    "    x = F.relu( self.fc2(x) )\n",
    "    x = self.dropout(x)\n",
    "    return self.output(x)"
   ]
  },
  {
   "cell_type": "code",
   "execution_count": 9,
   "metadata": {
    "id": "dbvHMGgtDMUj"
   },
   "outputs": [
    {
     "data": {
      "text/plain": [
       "ANNwine(\n",
       "  (input): Linear(in_features=11, out_features=16, bias=True)\n",
       "  (fc1): Linear(in_features=16, out_features=32, bias=True)\n",
       "  (fc2): Linear(in_features=32, out_features=32, bias=True)\n",
       "  (output): Linear(in_features=32, out_features=1, bias=True)\n",
       "  (dropout): Dropout(p=0.25, inplace=False)\n",
       ")"
      ]
     },
     "execution_count": 9,
     "metadata": {},
     "output_type": "execute_result"
    }
   ],
   "source": [
    "# generate an instance of the model and inspect it\n",
    "net = ANNwine()\n",
    "net"
   ]
  },
  {
   "cell_type": "code",
   "execution_count": 12,
   "metadata": {
    "id": "Hpa5Q5bADMW5"
   },
   "outputs": [
    {
     "name": "stdout",
     "output_type": "stream",
     "text": [
      "tensor([[ 0.4328,  0.5149, -0.3126, -0.7077, -1.4119,  1.6911, -0.2580,  0.5237,\n",
      "         -0.0167,  1.1407, -0.5174],\n",
      "        [-1.1460,  0.2786,  0.0806,  2.1682,  1.0032, -0.7029,  1.0646, -0.8275,\n",
      "          0.5427,  1.3006, -0.0217],\n",
      "        [-0.9868,  0.6245, -0.4714,  0.1096, -0.6967,  1.0350,  0.6441, -2.6238,\n",
      "          0.0126,  0.1137, -0.2107],\n",
      "        [ 0.1858,  0.3777, -0.2565, -0.4688,  0.1228,  1.7415,  1.0568, -2.5858,\n",
      "         -0.7427, -0.7037,  1.2890],\n",
      "        [ 0.0662, -0.7422,  0.0448, -0.5544,  1.2107,  2.0733,  1.7732,  0.4837,\n",
      "          0.6807, -1.8288,  0.1359],\n",
      "        [ 0.3262,  1.2803,  0.5683,  1.9683,  0.1144,  0.2268,  0.2204, -0.7464,\n",
      "          1.3300, -0.1084,  1.1764],\n",
      "        [-0.5342, -0.4732, -0.6834,  1.0934, -0.3043,  2.1625,  1.2421,  0.6091,\n",
      "          1.8554, -0.8431, -0.0654],\n",
      "        [ 0.1908,  0.3079,  1.2182,  0.0580,  0.8844,  0.6930, -0.5464, -0.1961,\n",
      "         -0.5732, -0.1684, -0.3489],\n",
      "        [ 0.4829,  0.7845,  0.1033,  1.1445, -0.7354,  0.1391, -1.4987,  0.7316,\n",
      "          0.8049, -0.6132,  0.8164],\n",
      "        [-1.0154, -0.5817,  1.9767, -0.8331, -0.9986,  0.1586, -1.0468, -2.3979,\n",
      "          0.2282, -0.5878, -0.0607]])\n",
      "torch.Size([10, 1])\n",
      " \n",
      "tensor([[0.2508],\n",
      "        [0.1416],\n",
      "        [0.1901],\n",
      "        [0.1383],\n",
      "        [0.1895],\n",
      "        [0.1929],\n",
      "        [0.1731],\n",
      "        [0.1464],\n",
      "        [0.1405],\n",
      "        [0.1047]], grad_fn=<AddmmBackward0>)\n"
     ]
    }
   ],
   "source": [
    "# A quick test of running some numbers through the model. \n",
    "# This simply ensures that the architecture is internally consistent.\n",
    "\n",
    "# 10 samples, 11 dimensions\n",
    "tmpx = torch.randn(10,11)\n",
    "print(tmpx)\n",
    "# run it through the DL\n",
    "y = net(tmpx)\n",
    "\n",
    "# exam the shape of the output\n",
    "print( y.shape ), print(' ')\n",
    "\n",
    "# and the output itself\n",
    "print(y)"
   ]
  },
  {
   "cell_type": "code",
   "execution_count": 14,
   "metadata": {
    "id": "OKhAEQZ1VPCx"
   },
   "outputs": [
    {
     "data": {
      "text/plain": [
       "tensor([[ 0.1451],\n",
       "        [ 0.1376],\n",
       "        [ 0.1914],\n",
       "        [ 0.2013],\n",
       "        [ 0.1397],\n",
       "        [ 0.1487],\n",
       "        [ 0.1220],\n",
       "        [ 0.0438],\n",
       "        [ 0.0320],\n",
       "        [ 0.0944],\n",
       "        [ 0.0306],\n",
       "        [ 0.0934],\n",
       "        [ 0.1421],\n",
       "        [ 0.0904],\n",
       "        [ 0.2986],\n",
       "        [ 0.0932],\n",
       "        [ 0.1791],\n",
       "        [ 0.1676],\n",
       "        [ 0.1510],\n",
       "        [ 0.1713],\n",
       "        [ 0.0662],\n",
       "        [ 0.1086],\n",
       "        [ 0.2437],\n",
       "        [ 0.0911],\n",
       "        [ 0.2322],\n",
       "        [ 0.1066],\n",
       "        [ 0.1537],\n",
       "        [ 0.1861],\n",
       "        [ 0.2151],\n",
       "        [ 0.1083],\n",
       "        [ 0.1749],\n",
       "        [ 0.1276],\n",
       "        [ 0.1535],\n",
       "        [ 0.0585],\n",
       "        [ 0.1365],\n",
       "        [ 0.1828],\n",
       "        [ 0.1301],\n",
       "        [ 0.2427],\n",
       "        [ 0.1278],\n",
       "        [ 0.1574],\n",
       "        [ 0.2198],\n",
       "        [ 0.1313],\n",
       "        [ 0.2916],\n",
       "        [ 0.0410],\n",
       "        [ 0.1786],\n",
       "        [ 0.1550],\n",
       "        [ 0.0936],\n",
       "        [ 0.1241],\n",
       "        [ 0.2004],\n",
       "        [ 0.1390],\n",
       "        [ 0.1351],\n",
       "        [ 0.1300],\n",
       "        [ 0.1116],\n",
       "        [ 0.1924],\n",
       "        [ 0.1410],\n",
       "        [ 0.1728],\n",
       "        [ 0.2278],\n",
       "        [ 0.3039],\n",
       "        [ 0.2221],\n",
       "        [ 0.0936],\n",
       "        [ 0.1581],\n",
       "        [ 0.1098],\n",
       "        [ 0.1208],\n",
       "        [ 0.2077],\n",
       "        [ 0.1310],\n",
       "        [ 0.1491],\n",
       "        [ 0.3035],\n",
       "        [ 0.2880],\n",
       "        [ 0.1076],\n",
       "        [ 0.0778],\n",
       "        [ 0.1144],\n",
       "        [ 0.1577],\n",
       "        [ 0.1616],\n",
       "        [ 0.1013],\n",
       "        [ 0.2927],\n",
       "        [ 0.0483],\n",
       "        [ 0.0884],\n",
       "        [ 0.1532],\n",
       "        [ 0.1043],\n",
       "        [ 0.2528],\n",
       "        [ 0.2957],\n",
       "        [ 0.1777],\n",
       "        [ 0.2324],\n",
       "        [ 0.1697],\n",
       "        [ 0.1769],\n",
       "        [ 0.0300],\n",
       "        [ 0.3072],\n",
       "        [ 0.2080],\n",
       "        [ 0.2303],\n",
       "        [ 0.1333],\n",
       "        [ 0.2818],\n",
       "        [ 0.1405],\n",
       "        [ 0.1651],\n",
       "        [ 0.1021],\n",
       "        [ 0.0786],\n",
       "        [ 0.0769],\n",
       "        [ 0.0320],\n",
       "        [ 0.1568],\n",
       "        [ 0.2068],\n",
       "        [ 0.0559],\n",
       "        [ 0.1338],\n",
       "        [ 0.1014],\n",
       "        [ 0.1117],\n",
       "        [ 0.2535],\n",
       "        [ 0.0895],\n",
       "        [ 0.3276],\n",
       "        [ 0.1022],\n",
       "        [ 0.1594],\n",
       "        [ 0.1683],\n",
       "        [ 0.3080],\n",
       "        [ 0.2310],\n",
       "        [ 0.2057],\n",
       "        [ 0.2319],\n",
       "        [ 0.1188],\n",
       "        [ 0.1279],\n",
       "        [ 0.1713],\n",
       "        [ 0.2011],\n",
       "        [ 0.0563],\n",
       "        [ 0.1240],\n",
       "        [ 0.1612],\n",
       "        [ 0.1920],\n",
       "        [ 0.1702],\n",
       "        [ 0.0629],\n",
       "        [ 0.1071],\n",
       "        [ 0.0693],\n",
       "        [ 0.1823],\n",
       "        [ 0.1494],\n",
       "        [ 0.0924],\n",
       "        [ 0.2213],\n",
       "        [ 0.2736],\n",
       "        [ 0.0499],\n",
       "        [ 0.0575],\n",
       "        [ 0.0987],\n",
       "        [ 0.0724],\n",
       "        [ 0.1017],\n",
       "        [ 0.1417],\n",
       "        [ 0.0813],\n",
       "        [ 0.1310],\n",
       "        [ 0.1284],\n",
       "        [ 0.0957],\n",
       "        [ 0.1522],\n",
       "        [ 0.2513],\n",
       "        [ 0.1435],\n",
       "        [ 0.2943],\n",
       "        [ 0.1332],\n",
       "        [ 0.2414],\n",
       "        [ 0.1781],\n",
       "        [ 0.1207],\n",
       "        [ 0.1177],\n",
       "        [ 0.0166],\n",
       "        [ 0.1945],\n",
       "        [ 0.2173],\n",
       "        [ 0.1483],\n",
       "        [ 0.2153],\n",
       "        [ 0.1856],\n",
       "        [ 0.1377],\n",
       "        [ 0.2404],\n",
       "        [ 0.0814],\n",
       "        [ 0.1169],\n",
       "        [ 0.1078],\n",
       "        [ 0.1932],\n",
       "        [ 0.0399],\n",
       "        [ 0.1169],\n",
       "        [ 0.1840],\n",
       "        [ 0.2642],\n",
       "        [ 0.0947],\n",
       "        [ 0.0887],\n",
       "        [ 0.1122],\n",
       "        [ 0.1112],\n",
       "        [ 0.1580],\n",
       "        [ 0.1115],\n",
       "        [ 0.1005],\n",
       "        [ 0.1038],\n",
       "        [ 0.1411],\n",
       "        [ 0.1110],\n",
       "        [ 0.1144],\n",
       "        [ 0.0340],\n",
       "        [ 0.1584],\n",
       "        [ 0.1367],\n",
       "        [ 0.1469],\n",
       "        [ 0.2068],\n",
       "        [ 0.0228],\n",
       "        [ 0.1387],\n",
       "        [ 0.1532],\n",
       "        [ 0.0910],\n",
       "        [ 0.1758],\n",
       "        [ 0.1577],\n",
       "        [ 0.0435],\n",
       "        [ 0.2318],\n",
       "        [ 0.0958],\n",
       "        [ 0.0768],\n",
       "        [ 0.1828],\n",
       "        [ 0.1773],\n",
       "        [ 0.1521],\n",
       "        [ 0.1278],\n",
       "        [ 0.1437],\n",
       "        [ 0.1470],\n",
       "        [ 0.1068],\n",
       "        [ 0.1120],\n",
       "        [ 0.0697],\n",
       "        [ 0.0975],\n",
       "        [ 0.0806],\n",
       "        [ 0.1343],\n",
       "        [ 0.1455],\n",
       "        [ 0.1483],\n",
       "        [ 0.0156],\n",
       "        [ 0.1644],\n",
       "        [ 0.1706],\n",
       "        [ 0.0344],\n",
       "        [ 0.1628],\n",
       "        [ 0.1530],\n",
       "        [ 0.2412],\n",
       "        [ 0.1775],\n",
       "        [ 0.1301],\n",
       "        [ 0.1071],\n",
       "        [ 0.1783],\n",
       "        [ 0.0991],\n",
       "        [ 0.1015],\n",
       "        [ 0.2203],\n",
       "        [ 0.0631],\n",
       "        [ 0.1328],\n",
       "        [ 0.1367],\n",
       "        [-0.0042],\n",
       "        [ 0.2278],\n",
       "        [ 0.1254],\n",
       "        [ 0.0555],\n",
       "        [-0.0021],\n",
       "        [ 0.1468],\n",
       "        [ 0.1583],\n",
       "        [ 0.0684],\n",
       "        [ 0.2142],\n",
       "        [ 0.1939],\n",
       "        [ 0.1270],\n",
       "        [ 0.0870],\n",
       "        [ 0.1080],\n",
       "        [ 0.2447],\n",
       "        [ 0.0181],\n",
       "        [ 0.2328],\n",
       "        [ 0.2773],\n",
       "        [ 0.1824],\n",
       "        [ 0.1597],\n",
       "        [ 0.2087],\n",
       "        [ 0.1871],\n",
       "        [ 0.1509],\n",
       "        [ 0.0635],\n",
       "        [ 0.0847],\n",
       "        [ 0.1885],\n",
       "        [ 0.0255],\n",
       "        [ 0.1427],\n",
       "        [ 0.0711],\n",
       "        [ 0.2270],\n",
       "        [ 0.0771],\n",
       "        [-0.0010],\n",
       "        [ 0.1909],\n",
       "        [ 0.0067],\n",
       "        [ 0.2073],\n",
       "        [ 0.2084],\n",
       "        [ 0.0859],\n",
       "        [ 0.1796],\n",
       "        [ 0.1084],\n",
       "        [ 0.0903],\n",
       "        [ 0.1577],\n",
       "        [ 0.0415],\n",
       "        [ 0.0700],\n",
       "        [ 0.2950],\n",
       "        [ 0.0543],\n",
       "        [ 0.2504],\n",
       "        [ 0.1756],\n",
       "        [ 0.0730],\n",
       "        [ 0.1174],\n",
       "        [ 0.0984],\n",
       "        [ 0.2123],\n",
       "        [ 0.0971],\n",
       "        [ 0.2263],\n",
       "        [ 0.1701],\n",
       "        [ 0.0982],\n",
       "        [ 0.0938],\n",
       "        [ 0.0575],\n",
       "        [ 0.0430],\n",
       "        [ 0.0938],\n",
       "        [ 0.1355],\n",
       "        [ 0.1418],\n",
       "        [ 0.1865],\n",
       "        [ 0.1011],\n",
       "        [ 0.1617],\n",
       "        [ 0.2957],\n",
       "        [ 0.1137]], grad_fn=<AddmmBackward0>)"
      ]
     },
     "execution_count": 14,
     "metadata": {},
     "output_type": "execute_result"
    }
   ],
   "source": [
    "# another sanity-check: run a batch of data through\n",
    "\n",
    "littleData = next(iter(train_loader))\n",
    "y = net(littleData[0])\n",
    "y"
   ]
  },
  {
   "cell_type": "markdown",
   "metadata": {
    "id": "IuCixgNfDMZS"
   },
   "source": [
    "# Train the model"
   ]
  },
  {
   "cell_type": "code",
   "execution_count": 15,
   "metadata": {
    "id": "0XRPe56rGp2k"
   },
   "outputs": [],
   "source": [
    "# a function that trains the model\n",
    "\n",
    "# global parameter\n",
    "numepochs = 3000\n",
    "\n",
    "def trainTheModel():\n",
    "\n",
    "  # loss function and optimizer\n",
    "  lossfun = nn.BCEWithLogitsLoss()\n",
    "  optimizer = torch.optim.Adam(winenet.parameters(),lr=.001)\n",
    "\n",
    "  # initialize losses\n",
    "  losses   = torch.zeros(numepochs)\n",
    "  trainAcc = []\n",
    "  testAcc  = []\n",
    "\n",
    "  # loop over epochs\n",
    "  for epochi in range(numepochs):\n",
    "\n",
    "    # switch on training mode\n",
    "    winenet.train()\n",
    "\n",
    "    # loop over training data batches\n",
    "    batchAcc  = []\n",
    "    batchLoss = []\n",
    "    for X,y in train_loader:\n",
    "\n",
    "      # forward pass and loss\n",
    "      yHat = winenet(X)\n",
    "      loss = lossfun(yHat,y)\n",
    "\n",
    "      # backprop\n",
    "      optimizer.zero_grad()\n",
    "      loss.backward()\n",
    "      optimizer.step()\n",
    "\n",
    "      # loss from this batch\n",
    "      batchLoss.append(loss.item())\n",
    "\n",
    "      # compute training accuracy for this batch\n",
    "      batchAcc.append( 100*torch.mean(((yHat>0) == y).float()).item() )\n",
    "    # end of batch loop...\n",
    "\n",
    "    # now that we've trained through the batches, get their average training accuracy\n",
    "    trainAcc.append( np.mean(batchAcc) )\n",
    "\n",
    "    # and get average losses across the batches\n",
    "    losses[epochi] = np.mean(batchLoss)\n",
    "\n",
    "    # test accuracy\n",
    "    winenet.eval()\n",
    "    X,y = next(iter(test_loader)) # extract X,y from test dataloader\n",
    "    with torch.no_grad(): # deactivates autograd\n",
    "      yHat = winenet(X)\n",
    "    testAcc.append( 100*torch.mean(((yHat>0) == y).float()).item() )\n",
    "  \n",
    "  # function output\n",
    "  return trainAcc,testAcc,losses"
   ]
  },
  {
   "cell_type": "code",
   "execution_count": 16,
   "metadata": {
    "id": "oL7EqhYjGp51"
   },
   "outputs": [],
   "source": [
    "# create a new model instance\n",
    "winenet = ANNwine()\n",
    "\n",
    "# train the model\n",
    "trainAcc,testAcc,losses = trainTheModel()\n"
   ]
  },
  {
   "cell_type": "code",
   "execution_count": 17,
   "metadata": {
    "id": "_7mAB4utDMeh"
   },
   "outputs": [
    {
     "data": {
      "image/png": "[encoded data removed]",
      "text/plain": [
       "<Figure size 1400x700 with 1 Axes>"
      ]
     },
     "metadata": {},
     "output_type": "display_data"
    }
   ],
   "source": [
    "# plot some results\n",
    "fig = plt.figure(figsize=(14,7))\n",
    "\n",
    "plt.plot(trainAcc,'bs')\n",
    "plt.plot(testAcc,'r')\n",
    "plt.legend(['Train','Test'])\n",
    "plt.xlabel('Epoch')\n",
    "plt.ylabel('Accuracy (%)')\n",
    "plt.ylim([50,100])\n",
    "plt.grid()\n",
    "plt.show()"
   ]
  },
  {
   "cell_type": "code",
   "execution_count": null,
   "metadata": {},
   "outputs": [],
   "source": []
  }
 ],
 "metadata": {
  "colab": {
   "authorship_tag": "ABX9TyM5ymxTQSP7Gl8NiBNUhnin",
   "collapsed_sections": [],
   "name": "DUDL_metaparams_codeChallengeDropout.ipynb",
   "provenance": [
    {
     "file_id": "1ZD_ADbh6qrlHE16V7Yc8VF9Vrn2c6bMQ",
     "timestamp": 1617047133469
    }
   ]
  },
  "kernelspec": {
   "display_name": "Python 3 (ipykernel)",
   "language": "python",
   "name": "python3"
  },
  "language_info": {
   "codemirror_mode": {
    "name": "ipython",
    "version": 3
   },
   "file_extension": ".py",
   "mimetype": "text/x-python",
   "name": "python",
   "nbconvert_exporter": "python",
   "pygments_lexer": "ipython3",
   "version": "3.11.3"
  }
 },
 "nbformat": 4,
 "nbformat_minor": 1
}
